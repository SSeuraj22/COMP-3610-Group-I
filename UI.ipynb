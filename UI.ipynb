{
 "cells": [
  {
   "cell_type": "code",
   "execution_count": 261,
   "id": "44a7f96e",
   "metadata": {},
   "outputs": [],
   "source": [
    "import tkinter as tk"
   ]
  },
  {
   "cell_type": "code",
   "execution_count": 262,
   "id": "ef0b3ed9",
   "metadata": {},
   "outputs": [],
   "source": [
    "root = tk.Tk() #create an instance of tk(blank window)"
   ]
  },
  {
   "cell_type": "code",
   "execution_count": 263,
   "id": "0571b29a",
   "metadata": {
    "scrolled": true
   },
   "outputs": [
    {
     "data": {
      "text/plain": [
       "''"
      ]
     },
     "execution_count": 263,
     "metadata": {},
     "output_type": "execute_result"
    }
   ],
   "source": [
    "root.geometry('600x600') #size of window"
   ]
  },
  {
   "cell_type": "code",
   "execution_count": 264,
   "id": "f4aa1fba",
   "metadata": {},
   "outputs": [],
   "source": [
    "topFrame = tk.Frame(root, background=\"black\")\n",
    "topFrame.pack(side=TOP)"
   ]
  },
  {
   "cell_type": "code",
   "execution_count": 265,
   "id": "219c6568",
   "metadata": {},
   "outputs": [],
   "source": [
    "bottomFrame = tk.Frame(root)\n",
    "bottomFrame.pack(side=BOTTOM)"
   ]
  },
  {
   "cell_type": "code",
   "execution_count": 266,
   "id": "c5fa3bbd",
   "metadata": {},
   "outputs": [],
   "source": [
    "label1 = tk.Label(topFrame, text=\"Input Text\") #label"
   ]
  },
  {
   "cell_type": "code",
   "execution_count": 267,
   "id": "4565609d",
   "metadata": {},
   "outputs": [],
   "source": [
    "label1.pack()"
   ]
  },
  {
   "cell_type": "code",
   "execution_count": 268,
   "id": "4838d0ef",
   "metadata": {},
   "outputs": [],
   "source": [
    "label2 = tk.Label(bottomFrame)\n",
    "label2.pack()"
   ]
  },
  {
   "cell_type": "code",
   "execution_count": 269,
   "id": "84a9f443",
   "metadata": {},
   "outputs": [],
   "source": [
    "text = tk.Text(topFrame)"
   ]
  },
  {
   "cell_type": "code",
   "execution_count": 270,
   "id": "f642e149",
   "metadata": {},
   "outputs": [],
   "source": [
    "text.pack()"
   ]
  },
  {
   "cell_type": "code",
   "execution_count": 271,
   "id": "a8c6b0d4",
   "metadata": {},
   "outputs": [],
   "source": [
    "def generateText():\n",
    "    review = text.get(\"1.0\", tk.END)\n",
    "    label2[\"text\"] = review"
   ]
  },
  {
   "cell_type": "code",
   "execution_count": 272,
   "id": "e96bbbb7",
   "metadata": {},
   "outputs": [],
   "source": [
    "button = tk.Button(topFrame, text=\"Generate Sentiment\", fg=\"white\", bg=\"red\", command=generateText)\n",
    "button.pack()"
   ]
  },
  {
   "cell_type": "code",
   "execution_count": 273,
   "id": "38efb650",
   "metadata": {},
   "outputs": [],
   "source": [
    "root.mainloop() #make window visible"
   ]
  },
  {
   "cell_type": "code",
   "execution_count": null,
   "id": "949b47c3",
   "metadata": {},
   "outputs": [],
   "source": []
  }
 ],
 "metadata": {
  "kernelspec": {
   "display_name": "Python 3 (ipykernel)",
   "language": "python",
   "name": "python3"
  },
  "language_info": {
   "codemirror_mode": {
    "name": "ipython",
    "version": 3
   },
   "file_extension": ".py",
   "mimetype": "text/x-python",
   "name": "python",
   "nbconvert_exporter": "python",
   "pygments_lexer": "ipython3",
   "version": "3.9.7"
  }
 },
 "nbformat": 4,
 "nbformat_minor": 5
}
